{
 "cells": [
  {
   "cell_type": "code",
   "execution_count": 1,
   "metadata": {},
   "outputs": [],
   "source": [
    "import pandas as pd\n",
    "from sklearn.neural_network import MLPClassifier\n",
    "from sklearn.model_selection import train_test_split\n",
    "from sklearn.metrics import accuracy_score, classification_report"
   ]
  },
  {
   "cell_type": "code",
   "execution_count": 2,
   "metadata": {},
   "outputs": [],
   "source": [
    "data = pd.read_csv('Encoded.csv')\n",
    "data.columns\n",
    "# from data only select the columns that are needed\n",
    "columns_needed = ['Seq', 'Offset', 'sTtl', 'sMeanPktSz', 'tcp', 'AckDat','RST','INT','TcpRtt','icmp', 'Label']"
   ]
  },
  {
   "cell_type": "code",
   "execution_count": 3,
   "metadata": {},
   "outputs": [],
   "source": [
    "data = data[columns_needed]\n",
    "# find NaN values in the dataset\n",
    "data.isnull().sum()\n",
    "# Remove the rows the NaN values with 0\n",
    "data = data.fillna(0)\n",
    "# Split dataset into features and target\n",
    "X = data.drop('Label', axis=1)\n",
    "y = data['Label']"
   ]
  },
  {
   "cell_type": "code",
   "execution_count": 4,
   "metadata": {},
   "outputs": [],
   "source": [
    "# Split dataset into training and testing sets\n",
    "X_train, X_test, y_train, y_test = train_test_split(X, y, test_size=0.3, random_state=42)"
   ]
  },
  {
   "cell_type": "code",
   "execution_count": 5,
   "metadata": {},
   "outputs": [
    {
     "data": {
      "text/html": [
       "<div>\n",
       "<style scoped>\n",
       "    .dataframe tbody tr th:only-of-type {\n",
       "        vertical-align: middle;\n",
       "    }\n",
       "\n",
       "    .dataframe tbody tr th {\n",
       "        vertical-align: top;\n",
       "    }\n",
       "\n",
       "    .dataframe thead th {\n",
       "        text-align: right;\n",
       "    }\n",
       "</style>\n",
       "<table border=\"1\" class=\"dataframe\">\n",
       "  <thead>\n",
       "    <tr style=\"text-align: right;\">\n",
       "      <th></th>\n",
       "      <th>Seq</th>\n",
       "      <th>Offset</th>\n",
       "      <th>sTtl</th>\n",
       "      <th>sMeanPktSz</th>\n",
       "      <th>tcp</th>\n",
       "      <th>AckDat</th>\n",
       "      <th>RST</th>\n",
       "      <th>INT</th>\n",
       "      <th>TcpRtt</th>\n",
       "      <th>icmp</th>\n",
       "    </tr>\n",
       "  </thead>\n",
       "  <tbody>\n",
       "    <tr>\n",
       "      <th>549248</th>\n",
       "      <td>28564</td>\n",
       "      <td>4330072</td>\n",
       "      <td>249.0</td>\n",
       "      <td>74.000000</td>\n",
       "      <td>0.0</td>\n",
       "      <td>0.000000</td>\n",
       "      <td>0.0</td>\n",
       "      <td>1.0</td>\n",
       "      <td>0.000000</td>\n",
       "      <td>0.0</td>\n",
       "    </tr>\n",
       "    <tr>\n",
       "      <th>586693</th>\n",
       "      <td>9637</td>\n",
       "      <td>4558912</td>\n",
       "      <td>63.0</td>\n",
       "      <td>111.142860</td>\n",
       "      <td>1.0</td>\n",
       "      <td>0.025561</td>\n",
       "      <td>0.0</td>\n",
       "      <td>0.0</td>\n",
       "      <td>0.027847</td>\n",
       "      <td>0.0</td>\n",
       "    </tr>\n",
       "    <tr>\n",
       "      <th>850276</th>\n",
       "      <td>25963</td>\n",
       "      <td>6310920</td>\n",
       "      <td>63.0</td>\n",
       "      <td>42.000000</td>\n",
       "      <td>0.0</td>\n",
       "      <td>0.000000</td>\n",
       "      <td>0.0</td>\n",
       "      <td>0.0</td>\n",
       "      <td>0.000000</td>\n",
       "      <td>0.0</td>\n",
       "    </tr>\n",
       "    <tr>\n",
       "      <th>29056</th>\n",
       "      <td>5454</td>\n",
       "      <td>519400</td>\n",
       "      <td>58.0</td>\n",
       "      <td>98.000000</td>\n",
       "      <td>0.0</td>\n",
       "      <td>0.000000</td>\n",
       "      <td>0.0</td>\n",
       "      <td>0.0</td>\n",
       "      <td>0.000000</td>\n",
       "      <td>1.0</td>\n",
       "    </tr>\n",
       "    <tr>\n",
       "      <th>565696</th>\n",
       "      <td>1419</td>\n",
       "      <td>272548</td>\n",
       "      <td>63.0</td>\n",
       "      <td>119.555557</td>\n",
       "      <td>1.0</td>\n",
       "      <td>0.016546</td>\n",
       "      <td>0.0</td>\n",
       "      <td>0.0</td>\n",
       "      <td>0.017899</td>\n",
       "      <td>0.0</td>\n",
       "    </tr>\n",
       "  </tbody>\n",
       "</table>\n",
       "</div>"
      ],
      "text/plain": [
       "          Seq   Offset   sTtl  sMeanPktSz  tcp    AckDat  RST  INT    TcpRtt  \\\n",
       "549248  28564  4330072  249.0   74.000000  0.0  0.000000  0.0  1.0  0.000000   \n",
       "586693   9637  4558912   63.0  111.142860  1.0  0.025561  0.0  0.0  0.027847   \n",
       "850276  25963  6310920   63.0   42.000000  0.0  0.000000  0.0  0.0  0.000000   \n",
       "29056    5454   519400   58.0   98.000000  0.0  0.000000  0.0  0.0  0.000000   \n",
       "565696   1419   272548   63.0  119.555557  1.0  0.016546  0.0  0.0  0.017899   \n",
       "\n",
       "        icmp  \n",
       "549248   0.0  \n",
       "586693   0.0  \n",
       "850276   0.0  \n",
       "29056    1.0  \n",
       "565696   0.0  "
      ]
     },
     "execution_count": 5,
     "metadata": {},
     "output_type": "execute_result"
    }
   ],
   "source": [
    "X_train.shape, X_test.shape, y_train.shape, y_test.shape\n",
    "X_train.head()"
   ]
  },
  {
   "cell_type": "code",
   "execution_count": 6,
   "metadata": {},
   "outputs": [],
   "source": [
    "# Create Gaussian Naive Bayes model\n",
    "model = MLPClassifier(hidden_layer_sizes=(100,), max_iter=1000, activation='relu', solver='adam', random_state=1)"
   ]
  },
  {
   "cell_type": "code",
   "execution_count": 7,
   "metadata": {},
   "outputs": [],
   "source": [
    "# Train the model using the training sets\n",
    "model.fit(X_train, y_train)"
   ]
  },
  {
   "cell_type": "code",
   "execution_count": null,
   "metadata": {},
   "outputs": [],
   "source": [
    "# Predict the response for test dataset\n",
    "y_pred = model.predict(X_test)"
   ]
  },
  {
   "cell_type": "code",
   "execution_count": null,
   "metadata": {},
   "outputs": [
    {
     "name": "stdout",
     "output_type": "stream",
     "text": [
      "Accuracy: 0.8121239037522583\n"
     ]
    }
   ],
   "source": [
    "# Calculate the accuracy of the model\n",
    "accuracy = accuracy_score(y_test, y_pred)\n",
    "\n",
    "# Print the accuracy of the model\n",
    "print('Accuracy:', accuracy)"
   ]
  },
  {
   "cell_type": "code",
   "execution_count": null,
   "metadata": {},
   "outputs": [
    {
     "name": "stdout",
     "output_type": "stream",
     "text": [
      "              precision    recall  f1-score   support\n",
      "\n",
      "      Benign       0.87      0.61      0.72    143427\n",
      "   Malicious       0.79      0.94      0.86    221340\n",
      "\n",
      "    accuracy                           0.81    364767\n",
      "   macro avg       0.83      0.78      0.79    364767\n",
      "weighted avg       0.82      0.81      0.80    364767\n",
      "\n"
     ]
    }
   ],
   "source": [
    "# calculate precision, recall, and f1-score\n",
    "print(classification_report(y_test, y_pred))"
   ]
  },
  {
   "cell_type": "code",
   "execution_count": null,
   "metadata": {},
   "outputs": [],
   "source": []
  }
 ],
 "metadata": {
  "kernelspec": {
   "display_name": "base",
   "language": "python",
   "name": "python3"
  },
  "language_info": {
   "codemirror_mode": {
    "name": "ipython",
    "version": 3
   },
   "file_extension": ".py",
   "mimetype": "text/x-python",
   "name": "python",
   "nbconvert_exporter": "python",
   "pygments_lexer": "ipython3",
   "version": "3.10.12"
  }
 },
 "nbformat": 4,
 "nbformat_minor": 2
}
